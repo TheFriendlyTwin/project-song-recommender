{
 "cells": [
  {
   "cell_type": "markdown",
   "id": "1b80d9aa",
   "metadata": {},
   "source": [
    "# Project: Song Recommender"
   ]
  },
  {
   "cell_type": "markdown",
   "id": "dc0fb348",
   "metadata": {},
   "source": [
    "### WebScraping III: revenge of the prototype"
   ]
  },
  {
   "cell_type": "markdown",
   "id": "81342ec5",
   "metadata": {},
   "source": [
    "----------------------------------------------------------------------------------------------------\n",
    "Following the prototype discussed in class, build an MVP, where the client will input a song, and the app will check if that song is in top 100 list. If it is, you will recommend another song from billboard 100, if it isn't, you will recommend a random song (for now) from another website, source of music boards.\n",
    "\n",
    "----------------------------------------------------------------------------------------------------"
   ]
  },
  {
   "cell_type": "markdown",
   "id": "ff0878a0",
   "metadata": {},
   "source": [
    "------------------------------------------------------------------------------------------------------\n",
    "In the two previous labs, 'Lab | Web Scraping Single Page' and 'Lab | Web Scraping Multiple Pages' we created two csv files, hot_songs and other_songs, which we'll use to build the MVP\n",
    "\n",
    "----------------------------------------------------------------------------------------------------------"
   ]
  },
  {
   "cell_type": "code",
   "execution_count": 1,
   "id": "c2138efc",
   "metadata": {},
   "outputs": [],
   "source": [
    "# Importing the necessary libraries\n",
    "import pandas as pd"
   ]
  },
  {
   "cell_type": "code",
   "execution_count": 2,
   "id": "d1b32c00",
   "metadata": {},
   "outputs": [
    {
     "data": {
      "text/html": [
       "<div>\n",
       "<style scoped>\n",
       "    .dataframe tbody tr th:only-of-type {\n",
       "        vertical-align: middle;\n",
       "    }\n",
       "\n",
       "    .dataframe tbody tr th {\n",
       "        vertical-align: top;\n",
       "    }\n",
       "\n",
       "    .dataframe thead th {\n",
       "        text-align: right;\n",
       "    }\n",
       "</style>\n",
       "<table border=\"1\" class=\"dataframe\">\n",
       "  <thead>\n",
       "    <tr style=\"text-align: right;\">\n",
       "      <th></th>\n",
       "      <th>Artist</th>\n",
       "      <th>Song</th>\n",
       "    </tr>\n",
       "  </thead>\n",
       "  <tbody>\n",
       "    <tr>\n",
       "      <th>0</th>\n",
       "      <td>Teddy Swims</td>\n",
       "      <td>Lose Control</td>\n",
       "    </tr>\n",
       "    <tr>\n",
       "      <th>1</th>\n",
       "      <td>Benson Boone</td>\n",
       "      <td>Beautiful Things</td>\n",
       "    </tr>\n",
       "    <tr>\n",
       "      <th>2</th>\n",
       "      <td>Ariana Grande</td>\n",
       "      <td>We Can't Be Friends (Wait For Your Love)</td>\n",
       "    </tr>\n",
       "    <tr>\n",
       "      <th>3</th>\n",
       "      <td>Jack Harlow</td>\n",
       "      <td>Lovin On Me</td>\n",
       "    </tr>\n",
       "    <tr>\n",
       "      <th>4</th>\n",
       "      <td>¥$: Ye &amp; Ty Dolla $ign Featuring Rich The Kid ...</td>\n",
       "      <td>Carnival</td>\n",
       "    </tr>\n",
       "    <tr>\n",
       "      <th>...</th>\n",
       "      <td>...</td>\n",
       "      <td>...</td>\n",
       "    </tr>\n",
       "    <tr>\n",
       "      <th>95</th>\n",
       "      <td>Bryan Martin</td>\n",
       "      <td>We Ride</td>\n",
       "    </tr>\n",
       "    <tr>\n",
       "      <th>96</th>\n",
       "      <td>Zach Bryan</td>\n",
       "      <td>Tourniquet</td>\n",
       "    </tr>\n",
       "    <tr>\n",
       "      <th>97</th>\n",
       "      <td>FloyyMenor X Cris Mj</td>\n",
       "      <td>Gata Only</td>\n",
       "    </tr>\n",
       "    <tr>\n",
       "      <th>98</th>\n",
       "      <td>Kali Uchis &amp; Peso Pluma</td>\n",
       "      <td>Igual Que Un Angel</td>\n",
       "    </tr>\n",
       "    <tr>\n",
       "      <th>99</th>\n",
       "      <td>Carly Pearce Featuring Chris Stapleton</td>\n",
       "      <td>We Don't Fight Anymore</td>\n",
       "    </tr>\n",
       "  </tbody>\n",
       "</table>\n",
       "<p>100 rows × 2 columns</p>\n",
       "</div>"
      ],
      "text/plain": [
       "                                               Artist  \\\n",
       "0                                         Teddy Swims   \n",
       "1                                        Benson Boone   \n",
       "2                                       Ariana Grande   \n",
       "3                                         Jack Harlow   \n",
       "4   ¥$: Ye & Ty Dolla $ign Featuring Rich The Kid ...   \n",
       "..                                                ...   \n",
       "95                                       Bryan Martin   \n",
       "96                                         Zach Bryan   \n",
       "97                               FloyyMenor X Cris Mj   \n",
       "98                            Kali Uchis & Peso Pluma   \n",
       "99             Carly Pearce Featuring Chris Stapleton   \n",
       "\n",
       "                                        Song  \n",
       "0                               Lose Control  \n",
       "1                           Beautiful Things  \n",
       "2   We Can't Be Friends (Wait For Your Love)  \n",
       "3                                Lovin On Me  \n",
       "4                                   Carnival  \n",
       "..                                       ...  \n",
       "95                                   We Ride  \n",
       "96                                Tourniquet  \n",
       "97                                 Gata Only  \n",
       "98                        Igual Que Un Angel  \n",
       "99                    We Don't Fight Anymore  \n",
       "\n",
       "[100 rows x 2 columns]"
      ]
     },
     "execution_count": 2,
     "metadata": {},
     "output_type": "execute_result"
    }
   ],
   "source": [
    "#Importing the hot_songs csv file into a variable\n",
    "hot_songs = pd.read_csv(r\"C:\\Users\\mafal\\Documents\\ironhack\\projects\\project-song-recommender\\hot_songs.csv\")\n",
    "hot_songs"
   ]
  },
  {
   "cell_type": "code",
   "execution_count": 3,
   "id": "9ea8e129",
   "metadata": {},
   "outputs": [
    {
     "data": {
      "text/html": [
       "<div>\n",
       "<style scoped>\n",
       "    .dataframe tbody tr th:only-of-type {\n",
       "        vertical-align: middle;\n",
       "    }\n",
       "\n",
       "    .dataframe tbody tr th {\n",
       "        vertical-align: top;\n",
       "    }\n",
       "\n",
       "    .dataframe thead th {\n",
       "        text-align: right;\n",
       "    }\n",
       "</style>\n",
       "<table border=\"1\" class=\"dataframe\">\n",
       "  <thead>\n",
       "    <tr style=\"text-align: right;\">\n",
       "      <th></th>\n",
       "      <th>Artist</th>\n",
       "      <th>Song</th>\n",
       "    </tr>\n",
       "  </thead>\n",
       "  <tbody>\n",
       "    <tr>\n",
       "      <th>0</th>\n",
       "      <td>Taylor Swift</td>\n",
       "      <td>All Too Well (10 Minute Version) (Taylor's Ver...</td>\n",
       "    </tr>\n",
       "    <tr>\n",
       "      <th>1</th>\n",
       "      <td>Rhiannon Giddens &amp; Francesco Turrisi</td>\n",
       "      <td>Avalon</td>\n",
       "    </tr>\n",
       "    <tr>\n",
       "      <th>2</th>\n",
       "      <td>Anna B Savage</td>\n",
       "      <td>Baby Grand</td>\n",
       "    </tr>\n",
       "    <tr>\n",
       "      <th>3</th>\n",
       "      <td>Moneybagg Yo</td>\n",
       "      <td>Wockesha</td>\n",
       "    </tr>\n",
       "    <tr>\n",
       "      <th>4</th>\n",
       "      <td>Snail Mail</td>\n",
       "      <td>Automate</td>\n",
       "    </tr>\n",
       "    <tr>\n",
       "      <th>...</th>\n",
       "      <td>...</td>\n",
       "      <td>...</td>\n",
       "    </tr>\n",
       "    <tr>\n",
       "      <th>195</th>\n",
       "      <td>ROSALÍA</td>\n",
       "      <td>SAOKO</td>\n",
       "    </tr>\n",
       "    <tr>\n",
       "      <th>196</th>\n",
       "      <td>Alex G</td>\n",
       "      <td>Runner</td>\n",
       "    </tr>\n",
       "    <tr>\n",
       "      <th>197</th>\n",
       "      <td>Bad Bunny</td>\n",
       "      <td>El Apagón</td>\n",
       "    </tr>\n",
       "    <tr>\n",
       "      <th>198</th>\n",
       "      <td>Beyoncé</td>\n",
       "      <td>ALIEN SUPERSTAR</td>\n",
       "    </tr>\n",
       "    <tr>\n",
       "      <th>199</th>\n",
       "      <td>Hitkidd &amp; GloRilla</td>\n",
       "      <td>F.N.F. (Let's Go)</td>\n",
       "    </tr>\n",
       "  </tbody>\n",
       "</table>\n",
       "<p>200 rows × 2 columns</p>\n",
       "</div>"
      ],
      "text/plain": [
       "                                   Artist  \\\n",
       "0                            Taylor Swift   \n",
       "1    Rhiannon Giddens & Francesco Turrisi   \n",
       "2                           Anna B Savage   \n",
       "3                            Moneybagg Yo   \n",
       "4                              Snail Mail   \n",
       "..                                    ...   \n",
       "195                               ROSALÍA   \n",
       "196                                Alex G   \n",
       "197                             Bad Bunny   \n",
       "198                               Beyoncé   \n",
       "199                    Hitkidd & GloRilla   \n",
       "\n",
       "                                                  Song  \n",
       "0    All Too Well (10 Minute Version) (Taylor's Ver...  \n",
       "1                                               Avalon  \n",
       "2                                           Baby Grand  \n",
       "3                                             Wockesha  \n",
       "4                                             Automate  \n",
       "..                                                 ...  \n",
       "195                                              SAOKO  \n",
       "196                                             Runner  \n",
       "197                                          El Apagón  \n",
       "198                                    ALIEN SUPERSTAR  \n",
       "199                                  F.N.F. (Let's Go)  \n",
       "\n",
       "[200 rows x 2 columns]"
      ]
     },
     "execution_count": 3,
     "metadata": {},
     "output_type": "execute_result"
    }
   ],
   "source": [
    "#Importing the other_songs csv file into a variable\n",
    "other_songs = pd.read_csv(r\"C:\\Users\\mafal\\Documents\\ironhack\\projects\\project-song-recommender\\other_songs.csv\")\n",
    "other_songs"
   ]
  },
  {
   "cell_type": "code",
   "execution_count": 4,
   "id": "2f943b94",
   "metadata": {},
   "outputs": [
    {
     "name": "stdout",
     "output_type": "stream",
     "text": [
      "Artist: Peso Pluma & Anitta\n",
      "Song: Bellakeo\n"
     ]
    }
   ],
   "source": [
    "# Randomly sample one row (song and its artist)\n",
    "random_song_row = hot_songs.sample(n=1)\n",
    "\n",
    "# Extract the artist and song information from the sampled row\n",
    "artist = random_song_row['Artist'].iloc[0]  # Use .iloc[0] to access the first (and only) item\n",
    "song = random_song_row['Song'].iloc[0]\n",
    "\n",
    "# Display the sampled song and artist\n",
    "print(f\"Artist: {artist}\")\n",
    "print(f\"Song: {song}\")"
   ]
  },
  {
   "cell_type": "code",
   "execution_count": 11,
   "id": "1c9e5549",
   "metadata": {},
   "outputs": [],
   "source": [
    "# Function that checks if the input song is in the billoard 100, if so it return another hot song, \n",
    "# if not it returns another song from other_songs list\n",
    "def song_recommender(song_name, artist_name, hot_songs, other_songs):\n",
    "    # Check if the song and artist are in hot_songs\n",
    "    is_in_hot_songs = hot_songs[(hot_songs['Song'] == song_name) & (hot_songs['Artist'] == artist_name)]\n",
    "    \n",
    "    # If the song is in hot_songs, recommend another song from hot_songs\n",
    "    if not is_in_hot_songs.empty:\n",
    "        random_song_row = hot_songs.sample(n=1)\n",
    "    else:\n",
    "        # If not, recommend a song from other_songs\n",
    "        random_song_row = other_songs.sample(n=1)\n",
    "    \n",
    "    # Extract the artist and song information from the sampled row\n",
    "    artist = random_song_row['Artist'].iloc[0]\n",
    "    song = random_song_row['Song'].iloc[0]\n",
    "    \n",
    "    # Prepare the return string based on the source of the recommendation\n",
    "    source = \"billboard 100\" if not is_in_hot_songs.empty else \"somewhere else\"\n",
    "    return f\"another song from {source}: {song}, {artist}\""
   ]
  },
  {
   "cell_type": "code",
   "execution_count": 14,
   "id": "b6ad1bf4",
   "metadata": {},
   "outputs": [
    {
     "name": "stdout",
     "output_type": "stream",
     "text": [
      "Write down a song:Schism\n",
      "Write down the artist:Tool\n"
     ]
    },
    {
     "data": {
      "text/plain": [
       "'another song from somewhere else: Avalon, Rhiannon Giddens & Francesco Turrisi'"
      ]
     },
     "execution_count": 14,
     "metadata": {},
     "output_type": "execute_result"
    }
   ],
   "source": [
    "song_name = input('Write down a song:')\n",
    "artist_name = input('Write down the artist:')\n",
    "song_recommender(song_name, artist_name, hot_songs, other_songs)"
   ]
  },
  {
   "cell_type": "code",
   "execution_count": null,
   "id": "f9365ad0",
   "metadata": {},
   "outputs": [],
   "source": []
  }
 ],
 "metadata": {
  "kernelspec": {
   "display_name": "Python 3 (ipykernel)",
   "language": "python",
   "name": "python3"
  },
  "language_info": {
   "codemirror_mode": {
    "name": "ipython",
    "version": 3
   },
   "file_extension": ".py",
   "mimetype": "text/x-python",
   "name": "python",
   "nbconvert_exporter": "python",
   "pygments_lexer": "ipython3",
   "version": "3.11.5"
  }
 },
 "nbformat": 4,
 "nbformat_minor": 5
}
